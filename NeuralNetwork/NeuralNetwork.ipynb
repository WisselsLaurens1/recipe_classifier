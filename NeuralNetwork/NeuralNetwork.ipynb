{
 "cells": [
  {
   "cell_type": "code",
   "execution_count": 34,
   "source": [
    "import torch\n",
    "import torch.nn as nn\n",
    "import pandas as pd\n",
    "import sys\n",
    "sys.path.append('../')\n",
    "from scripts.tools import *\n",
    "from sklearn.metrics import accuracy_score\n",
    "from pathlib import Path\n",
    "from scripts.tools import _train_test_split\n",
    "from scripts.tools import data_loader\n",
    "import json"
   ],
   "outputs": [],
   "metadata": {}
  },
  {
   "cell_type": "code",
   "execution_count": 35,
   "source": [
    "PATH = '../meta/cuisines.json'\n",
    "\n",
    "with open(PATH,'r',encoding='utf-8') as f:\n",
    "    raw = f.read()\n",
    "    data = json.loads(raw)\n",
    "\n",
    "ground_thruts = data['cuisines']"
   ],
   "outputs": [],
   "metadata": {}
  },
  {
   "cell_type": "code",
   "execution_count": 36,
   "source": [
    "len(ground_thruts)"
   ],
   "outputs": [
    {
     "output_type": "execute_result",
     "data": {
      "text/plain": [
       "20"
      ]
     },
     "metadata": {},
     "execution_count": 36
    }
   ],
   "metadata": {}
  },
  {
   "cell_type": "code",
   "execution_count": 37,
   "source": [
    "base_dir = '/home/ubuntu/random_forest/recipe_classifier'\n",
    "PATH = f'{base_dir}/models/NeuralNetwork.pth'"
   ],
   "outputs": [],
   "metadata": {}
  },
  {
   "cell_type": "code",
   "execution_count": 38,
   "source": [
    "# df = pd.read_csv('../data/train.csv')\n",
    "df = pd.read_csv('../data/cleaned_validation.csv')"
   ],
   "outputs": [],
   "metadata": {}
  },
  {
   "cell_type": "code",
   "execution_count": 39,
   "source": [
    "labels = list(df.columns)[:-1]\n",
    "X = df[labels].values\n",
    "Y = df['cuisine'].values\n",
    "cuisines = list(set(Y))\n",
    "cuisines.sort()\n"
   ],
   "outputs": [],
   "metadata": {}
  },
  {
   "cell_type": "code",
   "execution_count": 40,
   "source": [
    "X,Y = remove_invalid(X,Y)"
   ],
   "outputs": [],
   "metadata": {}
  },
  {
   "cell_type": "code",
   "execution_count": 41,
   "source": [
    "ratios = get_class_ratio(Y,_print=True)"
   ],
   "outputs": [
    {
     "output_type": "stream",
     "name": "stdout",
     "text": [
      "* italian 7838\n",
      "* mexican 6438\n",
      "* southern_us 4320\n",
      "* indian 3003\n",
      "* chinese 2673\n",
      "* french 2646\n",
      "* thai 1539\n",
      "* japanese 1423\n",
      "* greek 1175\n",
      "* spanish 989\n",
      "* korean 830\n",
      "* vietnamese 824\n",
      "* moroccan 821\n",
      "* british 804\n",
      "* filipino 755\n",
      "* irish 667\n",
      "* jamaican 526\n",
      "* russian 488\n",
      "* brazilian 467\n"
     ]
    }
   ],
   "metadata": {}
  },
  {
   "cell_type": "code",
   "execution_count": 42,
   "source": [
    "Y = [cuisines.index(y) for y in Y]"
   ],
   "outputs": [],
   "metadata": {}
  },
  {
   "cell_type": "code",
   "execution_count": 43,
   "source": [
    "_, X_test, _, Y_test = _train_test_split(X, Y,test_size=1)"
   ],
   "outputs": [],
   "metadata": {}
  },
  {
   "cell_type": "code",
   "execution_count": 44,
   "source": [
    "\n",
    "X_test = torch.tensor(X_test,dtype=torch.float32)\n",
    "Y_test = torch.tensor(Y_test)"
   ],
   "outputs": [],
   "metadata": {}
  },
  {
   "cell_type": "code",
   "execution_count": 45,
   "source": [
    "class NeurelNetwork(nn.Module):\n",
    "    def __init__(self, input_size, output_size):\n",
    "        super(NeurelNetwork, self).__init__()\n",
    "\n",
    "        self.l1 = nn.Linear(input_size, 125)\n",
    "        self.l2 = nn.Linear(125, output_size)\n",
    "\n",
    "    def forward(self, X):\n",
    "        out = torch.rrelu(self.l1(X))\n",
    "        out = torch.rrelu(self.l2(out))\n",
    "\n",
    "        return out"
   ],
   "outputs": [],
   "metadata": {}
  },
  {
   "cell_type": "code",
   "execution_count": 46,
   "source": [
    "n_features = len(X[0])\n",
    "n_outputs = len(ground_thruts)\n",
    "model = NeurelNetwork(n_features, n_outputs)\n",
    "model.load_state_dict(torch.load(PATH))\n",
    "# model.eval()\n"
   ],
   "outputs": [
    {
     "output_type": "execute_result",
     "data": {
      "text/plain": [
       "<All keys matched successfully>"
      ]
     },
     "metadata": {},
     "execution_count": 46
    }
   ],
   "metadata": {}
  },
  {
   "cell_type": "code",
   "execution_count": 47,
   "source": [
    "with torch.no_grad():\n",
    "    Y_pred = model(X_test)\n",
    "\n",
    "    # l = loss(Y_pred, Y_test)\n",
    "\n",
    "    _, predicted = torch.max(Y_pred.data, 1)\n",
    "\n",
    "    print(predicted.shape)\n",
    "    print(Y_test.shape)\n",
    "\n",
    "    score = accuracy_score(predicted, Y_test)\n",
    "    print(f'score: {score}')"
   ],
   "outputs": [
    {
     "output_type": "stream",
     "name": "stdout",
     "text": [
      "torch.Size([38227])\n",
      "torch.Size([38227])\n",
      "score: 0.7263452533549586\n"
     ]
    }
   ],
   "metadata": {}
  }
 ],
 "metadata": {
  "orig_nbformat": 4,
  "language_info": {
   "name": "python",
   "version": "3.8.10",
   "mimetype": "text/x-python",
   "codemirror_mode": {
    "name": "ipython",
    "version": 3
   },
   "pygments_lexer": "ipython3",
   "nbconvert_exporter": "python",
   "file_extension": ".py"
  },
  "kernelspec": {
   "name": "python3",
   "display_name": "Python 3.8.10 64-bit"
  },
  "interpreter": {
   "hash": "31f2aee4e71d21fbe5cf8b01ff0e069b9275f58929596ceb00d14d90e3e16cd6"
  }
 },
 "nbformat": 4,
 "nbformat_minor": 2
}