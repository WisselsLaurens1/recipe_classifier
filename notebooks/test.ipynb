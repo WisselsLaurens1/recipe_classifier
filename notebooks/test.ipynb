{
 "cells": [
  {
   "cell_type": "code",
   "execution_count": 24,
   "source": [
    "import re\n",
    "import spacy"
   ],
   "outputs": [],
   "metadata": {}
  },
  {
   "cell_type": "code",
   "execution_count": 22,
   "source": [
    "ing = \"extra-virgin olive oil\"\n",
    "\n",
    "ing = re.findall(\"[A-Za-z0-9-']*\", ing)\n",
    "ing = [w for w in ing if w != '']\n",
    "ing = ' '.join(ing)\n",
    "print(ing)"
   ],
   "outputs": [
    {
     "output_type": "stream",
     "name": "stdout",
     "text": [
      "extra-virgin olive oil\n"
     ]
    }
   ],
   "metadata": {}
  },
  {
   "cell_type": "code",
   "execution_count": 25,
   "source": [
    "nlp = spacy.load('en_core_web_sm')\n"
   ],
   "outputs": [],
   "metadata": {}
  },
  {
   "cell_type": "code",
   "execution_count": 32,
   "source": [
    "ing = '2 extra-virgin olive oils'\n",
    "ing = ing.split()\n",
    "ing = [nlp(word) for word in ing]\n",
    "\n",
    "_ing = []\n",
    "for word in ing:\n",
    "    _ing.append(''.join([token.lemma_ for token in word ]))\n",
    "\n",
    "ing = ' '.join(_ing)\n",
    "print(ing)"
   ],
   "outputs": [
    {
     "output_type": "stream",
     "name": "stdout",
     "text": [
      "['2']\n",
      "['extra', '-', 'virgin']\n",
      "['olive']\n",
      "['oil']\n"
     ]
    }
   ],
   "metadata": {}
  },
  {
   "cell_type": "code",
   "execution_count": 2,
   "source": [
    "test = \"8 ounces cream cheese, softened to room temperature\"\n",
    "\n",
    "result = test.split(\",\")\n",
    "print(result)"
   ],
   "outputs": [
    {
     "output_type": "stream",
     "name": "stdout",
     "text": [
      "['8 ounces cream cheese', ' softened to room temperature']\n"
     ]
    }
   ],
   "metadata": {}
  }
 ],
 "metadata": {
  "interpreter": {
   "hash": "31f2aee4e71d21fbe5cf8b01ff0e069b9275f58929596ceb00d14d90e3e16cd6"
  },
  "kernelspec": {
   "name": "python3",
   "display_name": "Python 3.8.10 64-bit"
  },
  "language_info": {
   "name": "python",
   "version": "3.8.10",
   "mimetype": "text/x-python",
   "codemirror_mode": {
    "name": "ipython",
    "version": 3
   },
   "pygments_lexer": "ipython3",
   "nbconvert_exporter": "python",
   "file_extension": ".py"
  },
  "orig_nbformat": 4
 },
 "nbformat": 4,
 "nbformat_minor": 2
}